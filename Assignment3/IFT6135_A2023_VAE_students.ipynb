{
  "cells": [
    {
      "cell_type": "markdown",
      "id": "8y_h9goW_--j",
      "metadata": {
        "id": "8y_h9goW_--j"
      },
      "source": [
        "[link text](https://)# IFT6135-A2023\n",
        "# Assignment 3: VAE Practical\n",
        "\n",
        "You must fill in your answers to various questions in this notebook, following which you must export this notebook to a Python file named `vae.py` and submit it on Gradescope.\n",
        "\n",
        "Only edit the functions specified in the PDF (and wherever marked – `# WRITE CODE HERE`). Do not change definitions or edit the rest of the template, else the autograder will not work.\n",
        "\n",
        "**Make sure you request a GPU runtime!**"
      ]
    },
    {
      "cell_type": "markdown",
      "id": "AdbBo0_tQp8y",
      "metadata": {
        "id": "AdbBo0_tQp8y"
      },
      "source": [
        "## VAE Basics\n",
        "\n",
        "Variational Autoencoders are generative latent-variable models that are popularly used for unsupervised learning and are aimed at maximizing the log-likelihood of the data, that is, maximizing $\\sum\\limits_{i=1}^N \\log p(x_i; \\theta)$ where $N$ is the number of data samples available. The generative story is as follows\n",
        "\n",
        "\\begin{align*}\n",
        "  z &\\sim \\mathcal{N}(0, I) \\\\\n",
        "  x | z &\\sim \\mathcal{N}(\\mu_\\theta(z), \\Sigma_\\theta(z))\n",
        "\\end{align*}\n",
        "\n",
        "Given $\\mu_\\theta(\\cdot)$ and $\\Sigma_\\theta(\\cdot)$ are parameterized as arbitrary Neural Networks, one cannot obtain the log-likelihood $\\log \\mathbb{E}_{z}[p(x | z, \\theta)]$ in closed form and hence has to rely on variational assumptions for optimization.\n",
        "\n",
        "One way of optimizing for log-likelihood is to use the variational distribution $q_\\phi(z | x)$, which with a little bit of algebra leads to the ELBO, which is\n",
        "\n",
        "\\begin{align*}\n",
        "  ELBO = \\sum_{i=1}^N \\left( \\mathbb{E}_{z\\sim q_\\phi(z|x_i)} [\\log p_\\theta(x_i | z)] + \\mathbb{KL}[q_\\phi(z|x_i) || \\mathcal{N}(0, I)] \\right)\n",
        "\\end{align*}\n",
        "\n",
        "This is the objective that we use for optimizing VAEs, where different flavours of VAE can be obtained by changing either the approximate posterior $q_\\phi$, the conditional likelihood distribution $p_\\theta$ or even the standard normal prior.\n",
        "\n",
        "The aim of this assignment would be to code a simple version of a VAE, where $q_\\phi(z|x)$ will be parameterized as $\\mathcal{N}(\\mu_\\phi(x), \\Sigma_\\phi(x))$ where $\\mu(x)$ is a mean vector and $\\Sigma(x)$ will be a **diagonal covariance matrix**, that is, it will only have non-zero entries on the diagonal.\n",
        "\n",
        "The likelihood $p_\\theta(x|z)$ will also be modeled as a Gaussian Distribution $\\mathcal{N}(\\mu_\\theta(z), I)$ where we parameterize the mean with another neural network but for simplicity, consider the identity covariance matrix.\n",
        "\n",
        "For details about VAEs, please refer to [Kingma's Paper](https://arxiv.org/abs/1312.6114) and the [Rezende's Paper](https://arxiv.org/abs/1401.4082)"
      ]
    },
    {
      "cell_type": "code",
      "execution_count": null,
      "id": "a1f2d714",
      "metadata": {
        "id": "a1f2d714"
      },
      "outputs": [],
      "source": [
        "!pip install -q -U datasets matplotlib tqdm\n",
        "\n",
        "import random\n",
        "import numpy as np\n",
        "from tqdm.auto import tqdm\n",
        "from datasets import load_dataset\n",
        "\n",
        "import torch\n",
        "from torch import nn\n",
        "import torch.nn.functional as F\n",
        "from torch.optim import Adam\n",
        "\n",
        "from torchvision.utils import make_grid, save_image\n",
        "import matplotlib.pyplot as plt\n",
        "\n",
        "from torchvision.transforms import Compose, ToTensor, Lambda, ToPILImage, CenterCrop, Resize\n",
        "from torchvision import transforms\n",
        "\n",
        "from pathlib import Path\n",
        "from torch.utils.data import DataLoader\n",
        "\n",
        "def fix_experiment_seed(seed=0):\n",
        "    random.seed(seed)\n",
        "    np.random.seed(seed)\n",
        "    torch.manual_seed(seed)\n",
        "    torch.cuda.manual_seed_all(seed)\n",
        "    torch.cuda.manual_seed(seed)\n",
        "    torch.backends.cudnn.deterministic = True\n",
        "    torch.backends.cudnn.benchmark = False\n",
        "\n",
        "fix_experiment_seed()\n",
        "\n",
        "results_folder = Path(\"./results_VAE\")\n",
        "results_folder.mkdir(exist_ok = True)\n",
        "device = \"cuda\" if torch.cuda.is_available() else \"cpu\""
      ]
    },
    {
      "cell_type": "markdown",
      "id": "bK_NDpHdO_fn",
      "metadata": {
        "id": "bK_NDpHdO_fn"
      },
      "source": [
        "## Set up the hyperparameters\n",
        "- Batch Size\n",
        "- Latent Dimensionality\n",
        "- Learning Rate"
      ]
    },
    {
      "cell_type": "code",
      "execution_count": null,
      "id": "5m7U3O5XC2i2",
      "metadata": {
        "id": "5m7U3O5XC2i2"
      },
      "outputs": [],
      "source": [
        "# Training Hyperparameters\n",
        "batch_size = 64   # Batch Size\n",
        "z_dim = 32        # Latent Dimensionality\n",
        "lr = 1e-4         # Learning Rate"
      ]
    },
    {
      "cell_type": "code",
      "execution_count": null,
      "id": "lcwXsoUDEPwe",
      "metadata": {
        "id": "lcwXsoUDEPwe"
      },
      "outputs": [],
      "source": [
        "# Define Dataset Statistics\n",
        "image_size = 32\n",
        "input_channels = 1\n",
        "\n",
        "# Resize and Normalize the Data\n",
        "transform = Compose([\n",
        "    transforms.Resize((image_size, image_size)),\n",
        "    transforms.ToTensor(),\n",
        "    transforms.Lambda(lambda t: (t * 2) - 1)]\n",
        ")\n",
        "\n",
        "# Helper Functions\n",
        "def show_image(image, nrow=8):\n",
        "  # Input: image\n",
        "  # Displays the image using matplotlib\n",
        "  grid_img = make_grid(image.detach().cpu(), nrow=nrow, padding=0)\n",
        "  plt.imshow(grid_img.permute(1, 2, 0))\n",
        "  plt.axis('off')\n",
        "\n",
        "def transforms_examples(examples):\n",
        "  # Helper function to perform transformations on the input images\n",
        "  if \"image\" in examples:\n",
        "    examples[\"pixel_values\"] = [transform(image) for image in examples[\"image\"]]\n",
        "    del examples[\"image\"]\n",
        "  else:\n",
        "    examples[\"pixel_values\"] = [transform(image) for image in examples[\"img\"]]\n",
        "    del examples[\"img\"]\n",
        "\n",
        "  return examples"
      ]
    },
    {
      "cell_type": "code",
      "execution_count": null,
      "id": "6134d691",
      "metadata": {
        "id": "6134d691"
      },
      "outputs": [],
      "source": [
        "# Load dataset from the hub, normalize it and create the dataloader\n",
        "def get_dataloaders():\n",
        "  dataset = load_dataset(\"mnist\", cache_dir='./data')\n",
        "  transformed_dataset = dataset.with_transform(transforms_examples)\n",
        "  train_dataloader = DataLoader(transformed_dataset[\"train\"], batch_size=batch_size, shuffle=True, drop_last=True)\n",
        "  test_dataloader = DataLoader(transformed_dataset[\"test\"], batch_size=batch_size, shuffle=False, drop_last=False)\n",
        "\n",
        "  return train_dataloader, test_dataloader"
      ]
    },
    {
      "cell_type": "markdown",
      "id": "HfRQis_EP-yh",
      "metadata": {
        "id": "HfRQis_EP-yh"
      },
      "source": [
        "## Visualize the Data\n",
        "\n",
        "Let's visualize what our data actually looks like! We are using the [MNIST](https://huggingface.co/datasets/mnist). The MNIST dataset is a large collection of handwritten digits. It has a training set of 60,000 examples, and a test set of 10,000 examples. Please note that you don't need to download dataset yourself as the code we provided download the dataset for you."
      ]
    },
    {
      "cell_type": "code",
      "execution_count": null,
      "id": "52e8273b",
      "metadata": {
        "id": "52e8273b"
      },
      "outputs": [],
      "source": [
        "# Visualize the Dataset\n",
        "def visualize():\n",
        "  train_dataloader, _ = get_dataloaders()\n",
        "  batch = next(iter(train_dataloader))\n",
        "  print(batch['pixel_values'].shape)\n",
        "\n",
        "  save_image((batch['pixel_values'] + 1.) * 0.5, './results_VAE/orig.png')\n",
        "  show_image((batch['pixel_values'] + 1.) * 0.5)\n",
        "\n",
        "if __name__ == '__main__':\n",
        "  visualize()"
      ]
    },
    {
      "cell_type": "markdown",
      "id": "PSzDGCJvQPvm",
      "metadata": {
        "id": "PSzDGCJvQPvm"
      },
      "source": [
        "## Define the Model Architectures\n",
        "\n",
        "For our VAE models, we use an encoder network and a decoder network, both of which have been pre-defined for ease of use in this assignment.\n",
        "\n",
        "Encoder: It is a model that maps input images to the latent space, and in particular, to the parameters of the distribution in the latent space.\n",
        "\n",
        "Decoder: It is a model that maps a sample in the latent space to a distribution in the observed space."
      ]
    },
    {
      "cell_type": "code",
      "execution_count": null,
      "id": "812V5rIcHaaf",
      "metadata": {
        "id": "812V5rIcHaaf"
      },
      "outputs": [],
      "source": [
        "from vae_solution import Encoder, Decoder"
      ]
    },
    {
      "cell_type": "markdown",
      "id": "3ai9uhzVM1P2",
      "metadata": {
        "id": "3ai9uhzVM1P2"
      },
      "source": [
        "# Diagonal Gaussian Distribution\n",
        "\n",
        "The following class provides a way of setting up the diagonal gaussian distribution, which is parameterized by a mean vector, and a logvar vector of the same shape as the mean vector. The logvar vector denotes the log of the variances on the diagonals of a diagonal covariance matrix.\n",
        "\n",
        "The task is to implement the following functions:\n",
        "\n",
        "- Sampling: Provide the methodology of computing a **reparamterized** sample from the given distribution.\n",
        "- KL Divergence: Compute and return the KL divergence of the distribution with the standard normal, that is, $\\mathbb{KL}[\\mathcal{N}(\\mu, \\Sigma) || \\mathcal{N}(0, I)]$ where $\\Sigma$ is a diagonal covariance matrix.\n",
        "- Negative Log Likelihood: Given some data $x$, returns the log likelihood under the current gaussian, that is, $\\log \\mathcal{N}(x | \\mu, \\Sigma)$\n",
        "- Mode: Returns the mode of the distribution"
      ]
    },
    {
      "cell_type": "code",
      "execution_count": null,
      "id": "yvUO-v2bG_Tq",
      "metadata": {
        "id": "yvUO-v2bG_Tq"
      },
      "outputs": [],
      "source": [
        "from vae_solution import DiagonalGaussianDistribution"
      ]
    },
    {
      "cell_type": "markdown",
      "id": "1ddcmfrhM6kQ",
      "metadata": {
        "id": "1ddcmfrhM6kQ"
      },
      "source": [
        "# VAE Model\n",
        "\n",
        "The Variational Autoencoder (VAE) model consists of an encoder network that parameterizes the distribution $q_\\phi$ as a Diagonal Gaussian Distribution through the (mean, log variance) parameterization and a decoder network that parameterizes the distribution $p_\\theta$ as another Diagonal Gaussian Distribution with an identity covariance matrix.\n",
        "\n",
        "The task is to implement the following\n",
        "\n",
        "- Encode: The function that takes as input a batched data sample, and returns the approximate posterior distribution $q_\\phi$\n",
        "- Decode: The function that takes as input a batched sample from the latent space, and returns the mode of the distribution $p_\\theta$\n",
        "- Sample: Generates a novel sample by sampling from the prior and then using the mode of the distribution $p_\\theta$\n",
        "- Forward: The main function for training. Given a data sample x, encode it using the encode function, and then obtain a reparameterized sample from it, and finally decode it. Return the mode from the decoded distribution $p_\\theta$, as well as the conditional likelihood and KL terms of the loss. Note that the loss terms should be of size (batch size,) as the averaging is taken care of in the training loop\n",
        "- Log Likelihood: The main function for testing that approximates the log-likelihood of the given data. It is computed using importance sampling as $\\log \\frac{1}{K} \\sum\\limits_{k=1}^K \\frac{p_\\theta(x, z_k)}{q_\\phi(z_k|x)}$ where $z_k \\sim q_\\phi(z | x)$. Please compute this quantity using the log-sum-exp trick for more stable computations; you can use PyTorch's logsumexp() function."
      ]
    },
    {
      "cell_type": "code",
      "execution_count": null,
      "id": "m178l8OJ0_qp",
      "metadata": {
        "id": "m178l8OJ0_qp"
      },
      "outputs": [],
      "source": [
        "from vae_solution import VAE"
      ]
    },
    {
      "cell_type": "markdown",
      "id": "2TprgdjZvoKm",
      "metadata": {
        "id": "2TprgdjZvoKm"
      },
      "source": [
        "Here we define the model as well as the optimizer to take care of training."
      ]
    },
    {
      "cell_type": "code",
      "execution_count": null,
      "id": "a5126e21",
      "metadata": {
        "id": "a5126e21"
      },
      "outputs": [],
      "source": [
        "if __name__ == '__main__':\n",
        "  model = VAE(in_channels=input_channels,\n",
        "            input_size=image_size,\n",
        "            z_dim=z_dim,\n",
        "            decoder_features=32,\n",
        "            encoder_features=32,\n",
        "            device=device\n",
        "            )\n",
        "  model.to(device)\n",
        "  optimizer = Adam(model.parameters(), lr=lr)"
      ]
    },
    {
      "cell_type": "markdown",
      "id": "f7444b0b",
      "metadata": {
        "id": "f7444b0b"
      },
      "source": [
        "Finally, let's start training!\n",
        "Visualization of the samples generated, the original dataset and the reconstructions are saved locally in the notebook!"
      ]
    },
    {
      "cell_type": "code",
      "execution_count": null,
      "id": "92b12ed1",
      "metadata": {
        "id": "92b12ed1"
      },
      "outputs": [],
      "source": [
        "epochs = 25\n",
        "\n",
        "if __name__ == '__main__':\n",
        "  train_dataloader, _ = get_dataloaders()\n",
        "  for epoch in range(epochs):\n",
        "    with tqdm(train_dataloader, unit=\"batch\", leave=False) as tepoch:\n",
        "      model.train()\n",
        "      for batch in tepoch:\n",
        "        tepoch.set_description(f\"Epoch: {epoch}\")\n",
        "\n",
        "        optimizer.zero_grad()\n",
        "\n",
        "        batch_size = batch[\"pixel_values\"].shape[0]\n",
        "        x = batch[\"pixel_values\"].to(device)\n",
        "\n",
        "        recon, nll, kl = model(x)\n",
        "        loss = (nll + kl).mean()\n",
        "\n",
        "        loss.backward()\n",
        "        optimizer.step()\n",
        "\n",
        "        tepoch.set_postfix(loss=loss.item())\n",
        "\n",
        "    samples = model.sample(batch_size=64)\n",
        "    save_image((x + 1.) * 0.5, './results_VAE/orig.png')\n",
        "    save_image((recon + 1.) * 0.5, './results_VAE/recon.png')\n",
        "    save_image((samples + 1.) * 0.5, f'./results_VAE/samples_{epoch}.png')\n",
        "\n",
        "  show_image(((samples + 1.) * 0.5).clamp(0., 1.))"
      ]
    },
    {
      "cell_type": "markdown",
      "id": "itBFbLeA-i2s",
      "metadata": {
        "id": "itBFbLeA-i2s"
      },
      "source": [
        "Once the training of the model is done, we can use the model to approximate the log-likelihood of the test data using the function that we defined above."
      ]
    },
    {
      "cell_type": "code",
      "execution_count": null,
      "id": "T1kDN7e366tA",
      "metadata": {
        "id": "T1kDN7e366tA"
      },
      "outputs": [],
      "source": [
        "if __name__ == '__main__':\n",
        "  _, test_dataloader = get_dataloaders()\n",
        "  with torch.no_grad():\n",
        "    with tqdm(test_dataloader, unit=\"batch\", leave=True) as tepoch:\n",
        "      model.eval()\n",
        "      log_likelihood = 0.\n",
        "      num_samples = 0.\n",
        "      for batch in tepoch:\n",
        "        tepoch.set_description(f\"Epoch: {epoch}\")\n",
        "        batch_size = batch[\"pixel_values\"].shape[0]\n",
        "        x = batch[\"pixel_values\"].to(device)\n",
        "\n",
        "        log_likelihood += model.log_likelihood(x).sum()\n",
        "        num_samples += batch_size\n",
        "        tepoch.set_postfix(log_likelihood=log_likelihood / num_samples)"
      ]
    },
    {
      "cell_type": "markdown",
      "id": "3PW1Xgz6-rbp",
      "metadata": {
        "id": "3PW1Xgz6-rbp"
      },
      "source": [
        "Finally, we also visualize the interpolation between two points in the latent space: $z_1$ and $z_2$ by choosing points at equal intervals on the line from the two points."
      ]
    },
    {
      "cell_type": "code",
      "execution_count": null,
      "id": "-b47g2Bj7IF-",
      "metadata": {
        "id": "-b47g2Bj7IF-"
      },
      "outputs": [],
      "source": [
        "from vae_solution import interpolate\n",
        "\n",
        "if __name__ == '__main__':\n",
        "  z_1 = torch.randn(1, z_dim).to(device)\n",
        "  z_2 = torch.randn(1, z_dim).to(device)\n",
        "\n",
        "  interp = interpolate(model, z_1, z_2, 10)\n",
        "  show_image((interp + 1.) * 0.5, nrow=10)"
      ]
    }
  ],
  "metadata": {
    "accelerator": "GPU",
    "colab": {
      "provenance": []
    },
    "gpuClass": "standard",
    "jupytext": {
      "cell_metadata_filter": "-all",
      "main_language": "python",
      "notebook_metadata_filter": "-all"
    },
    "kernelspec": {
      "display_name": "Python 3 (ipykernel)",
      "language": "python",
      "name": "python3"
    },
    "language_info": {
      "codemirror_mode": {
        "name": "ipython",
        "version": 3
      },
      "file_extension": ".py",
      "mimetype": "text/x-python",
      "name": "python",
      "nbconvert_exporter": "python",
      "pygments_lexer": "ipython3",
      "version": "3.9.13"
    }
  },
  "nbformat": 4,
  "nbformat_minor": 5
}
